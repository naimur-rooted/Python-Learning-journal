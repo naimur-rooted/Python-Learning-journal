{
 "cells": [
  {
   "cell_type": "code",
   "execution_count": 1,
   "id": "7bf82ecb-9624-4f38-a7ed-45cd072c43b3",
   "metadata": {},
   "outputs": [],
   "source": [
    "import pandas as pd"
   ]
  },
  {
   "cell_type": "code",
   "execution_count": 2,
   "id": "e6bf1ff5-44b2-427e-9d99-05df869016cc",
   "metadata": {},
   "outputs": [],
   "source": [
    "df= pd.read_csv('cybersecurity_attacks.csv')"
   ]
  },
  {
   "cell_type": "code",
   "execution_count": 3,
   "id": "9549aee0-6454-4d85-9693-467382243d2b",
   "metadata": {},
   "outputs": [
    {
     "name": "stdout",
     "output_type": "stream",
     "text": [
      "Alerts/Warnings           20067\n",
      "IDS/IPS Alerts            20050\n",
      "Malware Indicators        20000\n",
      "Firewall Logs             19961\n",
      "Proxy Information         19851\n",
      "Source IP Address             0\n",
      "Destination IP Address        0\n",
      "Source Port                   0\n",
      "Timestamp                     0\n",
      "Traffic Type                  0\n",
      "Packet Type                   0\n",
      "Packet Length                 0\n",
      "Protocol                      0\n",
      "Destination Port              0\n",
      "Attack Type                   0\n",
      "Payload Data                  0\n",
      "Anomaly Scores                0\n",
      "Severity Level                0\n",
      "Action Taken                  0\n",
      "Attack Signature              0\n",
      "User Information              0\n",
      "Geo-location Data             0\n",
      "Network Segment               0\n",
      "Device Information            0\n",
      "Log Source                    0\n",
      "dtype: int64\n"
     ]
    }
   ],
   "source": [
    "# Counting missing values in each column and sorting them from most to least\n",
    "null_counts_sorted = df.isnull().sum().sort_values(ascending=False)\n",
    "print(null_counts_sorted)"
   ]
  },
  {
   "cell_type": "code",
   "execution_count": 4,
   "id": "a023319b-6a96-4511-8179-c0699866c371",
   "metadata": {},
   "outputs": [],
   "source": [
    "# Replacing missing values with 'No alert' for clarity\n",
    "df[\"Alerts/Warnings\"] = df[\"Alerts/Warnings\"].apply(lambda x: \"No alert\" if pd.isnull(x) \n",
    "                                                    else x)\n"
   ]
  },
  {
   "cell_type": "code",
   "execution_count": 5,
   "id": "2483dd01-2b3f-4272-a0cc-a4c115b02208",
   "metadata": {},
   "outputs": [],
   "source": [
    "\n",
    "df['IDS/IPS Alerts'] = df['IDS/IPS Alerts'].apply(lambda x: \"No alert\" if pd.isnull(x)\n",
    "                                                   else x)"
   ]
  },
  {
   "cell_type": "code",
   "execution_count": 6,
   "id": "2b12e168-41ee-472a-880e-7a25a93ae6b5",
   "metadata": {},
   "outputs": [],
   "source": [
    "\n",
    "df['Malware Indicators'] = df['Malware Indicators'].apply(lambda x: \"No alert\" if pd.isnull(x)\n",
    "                                                   else x)"
   ]
  },
  {
   "cell_type": "code",
   "execution_count": 7,
   "id": "3a4f15e1-a915-4c8b-a6b6-0f6366c98268",
   "metadata": {},
   "outputs": [],
   "source": [
    "\n",
    "df['Firewall Logs'] = df['Firewall Logs'].apply(lambda x: \"No alert\" if pd.isnull(x)\n",
    "                                                   else x)"
   ]
  },
  {
   "cell_type": "code",
   "execution_count": 8,
   "id": "2c818f92-e9c4-450d-9a91-a34b240e2447",
   "metadata": {},
   "outputs": [],
   "source": [
    "\n",
    "df['Proxy Information'] = df['Proxy Information'].apply(lambda x: \"No alert\" if pd.isnull(x)\n",
    "                                                   else x)\n"
   ]
  },
  {
   "cell_type": "code",
   "execution_count": 9,
   "id": "63f5df2e-b137-4366-a5e2-13d3069e624a",
   "metadata": {},
   "outputs": [
    {
     "name": "stdout",
     "output_type": "stream",
     "text": [
      "Timestamp                 0\n",
      "Source IP Address         0\n",
      "Destination IP Address    0\n",
      "Source Port               0\n",
      "Destination Port          0\n",
      "Protocol                  0\n",
      "Packet Length             0\n",
      "Packet Type               0\n",
      "Traffic Type              0\n",
      "Payload Data              0\n",
      "Malware Indicators        0\n",
      "Anomaly Scores            0\n",
      "Alerts/Warnings           0\n",
      "Attack Type               0\n",
      "Attack Signature          0\n",
      "Action Taken              0\n",
      "Severity Level            0\n",
      "User Information          0\n",
      "Device Information        0\n",
      "Network Segment           0\n",
      "Geo-location Data         0\n",
      "Proxy Information         0\n",
      "Firewall Logs             0\n",
      "IDS/IPS Alerts            0\n",
      "Log Source                0\n",
      "dtype: int64\n"
     ]
    }
   ],
   "source": [
    "null_counts_sorted = df.isnull().sum().sort_values(ascending=False)\n",
    "print(null_counts_sorted)\n"
   ]
  },
  {
   "cell_type": "code",
   "execution_count": null,
   "id": "4d3953da-28ec-4d0a-b1d6-f170ea055c28",
   "metadata": {},
   "outputs": [],
   "source": []
  }
 ],
 "metadata": {
  "kernelspec": {
   "display_name": "Python 3 (ipykernel)",
   "language": "python",
   "name": "python3"
  },
  "language_info": {
   "codemirror_mode": {
    "name": "ipython",
    "version": 3
   },
   "file_extension": ".py",
   "mimetype": "text/x-python",
   "name": "python",
   "nbconvert_exporter": "python",
   "pygments_lexer": "ipython3",
   "version": "3.13.5"
  }
 },
 "nbformat": 4,
 "nbformat_minor": 5
}
